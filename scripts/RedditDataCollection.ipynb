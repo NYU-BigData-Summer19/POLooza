{
 "cells": [
  {
   "cell_type": "code",
   "execution_count": 4,
   "metadata": {
    "collapsed": true
   },
   "outputs": [],
   "source": [
    "import praw          # Python Reddit API wrapper- pip install if you don't have it\n",
    "import json\n",
    "import pprint\n",
    "import numpy as np\n",
    "import pandas as pd\n",
    "import sklearn.feature_extraction.text\n",
    "import math"
   ]
  },
  {
   "cell_type": "code",
   "execution_count": 5,
   "metadata": {
    "collapsed": true
   },
   "outputs": [],
   "source": [
    "# This creates a Reddit instance\n",
    "reddit = praw.Reddit(client_id = 'kCjbiHmfa6QCHg', \n",
    "                     client_secret = 'oE4G_WsYBcQUGyWGndq1tJ5Qnzw', \n",
    "                     # Put password below\n",
    "                     # password = PUT THE PASSWORD HERE \n",
    "                     password = \"CrainChangChangCrain\",\n",
    "                     user_agent = 'myAgent', \n",
    "                     # Put the username below\n",
    "                     # username = USERNAME HERE\n",
    "                     username = \"BootyMcBootyson\"\n",
    "                    )"
   ]
  },
  {
   "cell_type": "code",
   "execution_count": 40,
   "metadata": {},
   "outputs": [],
   "source": [
    "# Takes a list of strings\n",
    "# Returns a list of subreddit objects\n",
    "def get_subreddits(subreddit_names):\n",
    "    subreddit_list = []\n",
    "    for i in subreddit_names:\n",
    "        sr = reddit.subreddit(i)\n",
    "        subreddit_list.append(sr)\n",
    "    return subreddit_list\n",
    "\n",
    "# Takes a single submission object\n",
    "# Returns dictionary of k = submission id, v = list of features\n",
    "def parse_comments(submission):\n",
    "    comments_dict = {}\n",
    "    # Get past the \"more comment\" object to extract all comments\n",
    "    submission.comments.replace_more(limit=0)\n",
    "    # Get all comments as flattened list\n",
    "    comments = submission.comments.list()    \n",
    "    for comment in comments:\n",
    "        comments_dict[comment.id] = [str(comment.body), str(comment.subreddit), comment.score, 'comment']\n",
    "    return comments_dict\n",
    "\n",
    "# For posts, one approach might be to just take the title of the post\n",
    "# This is because post bodies (\"selftext\") may just be links or images\n",
    "# Takes a list of subreddit objects and extracts comments and posts\n",
    "# Returns dictionary of k = submission id, v = list of features\n",
    "def parse_top_posts(subreddits):\n",
    "    content_dict = {}\n",
    "    for i in subreddits:\n",
    "        for submission in i.top(time_filter='all', limit = 10):\n",
    "            # Add an entry to posts_dict where value is a list of features\n",
    "            content_dict[submission.id] = [str(submission.title), str(submission.subreddit), submission.score, 'post']\n",
    "            # Now extract comments\n",
    "            comments_dict_buff = parse_comments(submission)\n",
    "            content_dict.update(comments_dict_buff)\n",
    "    return content_dict\n",
    "\n",
    "# This is a wrapper method that calls the others\n",
    "# Takes a list of names of subreddits\n",
    "# Returns a dataframe of posts and features\n",
    "def create_reddit_dataset(subreddit_names_list):\n",
    "    subreddits = get_subreddits(subreddit_names_list)\n",
    "    content_dict = parse_top_posts(subreddits)\n",
    "    col_names = ['text', 'subreddit', 'score', 'content_type']\n",
    "    df = pd.DataFrame.from_dict(content_dict, orient='index', columns=col_names)\n",
    "    return df"
   ]
  },
  {
   "cell_type": "code",
   "execution_count": 41,
   "metadata": {},
   "outputs": [],
   "source": [
    "s_names = ['politics']\n",
    "my_data = create_reddit_dataset(s_names)"
   ]
  },
  {
   "cell_type": "code",
   "execution_count": 42,
   "metadata": {},
   "outputs": [
    {
     "data": {
      "text/html": [
       "<div>\n",
       "<style scoped>\n",
       "    .dataframe tbody tr th:only-of-type {\n",
       "        vertical-align: middle;\n",
       "    }\n",
       "\n",
       "    .dataframe tbody tr th {\n",
       "        vertical-align: top;\n",
       "    }\n",
       "\n",
       "    .dataframe thead th {\n",
       "        text-align: right;\n",
       "    }\n",
       "</style>\n",
       "<table border=\"1\" class=\"dataframe\">\n",
       "  <thead>\n",
       "    <tr style=\"text-align: right;\">\n",
       "      <th></th>\n",
       "      <th>text</th>\n",
       "      <th>subreddit</th>\n",
       "      <th>score</th>\n",
       "      <th>content_type</th>\n",
       "    </tr>\n",
       "  </thead>\n",
       "  <tbody>\n",
       "    <tr>\n",
       "      <th>9uuhl3</th>\n",
       "      <td>Kim Davis, clerk who refused to sign marriage ...</td>\n",
       "      <td>politics</td>\n",
       "      <td>101996</td>\n",
       "      <td>post</td>\n",
       "    </tr>\n",
       "    <tr>\n",
       "      <th>e973fu0</th>\n",
       "      <td>\\nAs a reminder, this subreddit [is for civil ...</td>\n",
       "      <td>politics</td>\n",
       "      <td>1</td>\n",
       "      <td>comment</td>\n",
       "    </tr>\n",
       "    <tr>\n",
       "      <th>e973jxg</th>\n",
       "      <td>Good job Kentucky!</td>\n",
       "      <td>politics</td>\n",
       "      <td>13524</td>\n",
       "      <td>comment</td>\n",
       "    </tr>\n",
       "    <tr>\n",
       "      <th>e975nkn</th>\n",
       "      <td>title should be: \"Lady who refused to do job, ...</td>\n",
       "      <td>politics</td>\n",
       "      <td>24216</td>\n",
       "      <td>comment</td>\n",
       "    </tr>\n",
       "    <tr>\n",
       "      <th>e973okz</th>\n",
       "      <td>From what I remember, this awful bitch owes th...</td>\n",
       "      <td>politics</td>\n",
       "      <td>5735</td>\n",
       "      <td>comment</td>\n",
       "    </tr>\n",
       "  </tbody>\n",
       "</table>\n",
       "</div>"
      ],
      "text/plain": [
       "                                                      text subreddit   score  \\\n",
       "9uuhl3   Kim Davis, clerk who refused to sign marriage ...  politics  101996   \n",
       "e973fu0  \\nAs a reminder, this subreddit [is for civil ...  politics       1   \n",
       "e973jxg                                Good job Kentucky!   politics   13524   \n",
       "e975nkn  title should be: \"Lady who refused to do job, ...  politics   24216   \n",
       "e973okz  From what I remember, this awful bitch owes th...  politics    5735   \n",
       "\n",
       "        content_type  \n",
       "9uuhl3          post  \n",
       "e973fu0      comment  \n",
       "e973jxg      comment  \n",
       "e975nkn      comment  \n",
       "e973okz      comment  "
      ]
     },
     "execution_count": 42,
     "metadata": {},
     "output_type": "execute_result"
    }
   ],
   "source": [
    "my_data.head()"
   ]
  },
  {
   "cell_type": "code",
   "execution_count": null,
   "metadata": {
    "collapsed": true
   },
   "outputs": [],
   "source": [
    "# List of subreddits to check in\n",
    "\n",
    "# Maybe: AskReddit, history, philosophy\n",
    "\n",
    "my_sub_names = [\"news\", \n",
    "                \"politics\", \n",
    "                \"worldnews\", \n",
    "                \"PoliticalHumor\", \n",
    "                \"worldpolitics\", \n",
    "                \"Economics\", \n",
    "                \"PoliticalDiscussion\"\n",
    "                \"TheDonald\",\n",
    "                \"LateStageCapitalism\",\n",
    "                \"Libertarian\",\n",
    "                \"SandersForPresident\", \n",
    "                \"conservative\",\n",
    "                \"socialism\",\n",
    "                \"bluemidterm2018\",\n",
    "                \"democrats\",\n",
    "                \"anarcho_capitalism\",\n",
    "                \"Liberal\"\n",
    "                \"progressive\"\n",
    "                \"neoliberal\"\n",
    "                ]"
   ]
  }
 ],
 "metadata": {
  "kernelspec": {
   "display_name": "Python 3",
   "language": "python",
   "name": "python3"
  },
  "language_info": {
   "codemirror_mode": {
    "name": "ipython",
    "version": 3
   },
   "file_extension": ".py",
   "mimetype": "text/x-python",
   "name": "python",
   "nbconvert_exporter": "python",
   "pygments_lexer": "ipython3",
   "version": "3.6.2"
  }
 },
 "nbformat": 4,
 "nbformat_minor": 2
}
